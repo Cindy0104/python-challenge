{
 "cells": [
  {
   "cell_type": "code",
   "execution_count": 1,
   "metadata": {},
   "outputs": [
    {
     "name": "stdout",
     "output_type": "stream",
     "text": [
      "budget_data.csv\n"
     ]
    }
   ],
   "source": [
    "import os\n",
    "import csv\n",
    "\n",
    "path=\"budget_data.csv\"\n",
    "print(path)"
   ]
  },
  {
   "cell_type": "code",
   "execution_count": 26,
   "metadata": {},
   "outputs": [
    {
     "name": "stdout",
     "output_type": "stream",
     "text": [
      "-2315\n",
      "\n",
      "\n",
      "Financial Analysis\n",
      "---------------------------\n",
      "Total Months: 86\n",
      "Total : $ 38382578\n",
      "Average Change: $ -2315\n",
      "Greatest Increase in Profits: Jan-2012 $ 1926159\n",
      "Greatest Decrease in Profits: Aug-2013 $ -2196167\n"
     ]
    }
   ],
   "source": [
    "with open(path, newline=\"\") as budget_file:\n",
    "    reader=csv.reader(budget_file, delimiter=\",\")\n",
    "    csv_header=next(budget_file)\n",
    "    Months=[]\n",
    "    Profit_Loss=[]\n",
    "    Diff=[]\n",
    "    Greatest_Increase_date=\"\"\n",
    "    Greatest_Decrease_date=\"\"\n",
    "    for row in reader:\n",
    "        Months.append(row[0])\n",
    "        Profit_Loss.append(int(row[1]))\n",
    "    for i in range(1, len(Profit_Loss)):\n",
    "        Diff.append(Profit_Loss[i] - Profit_Loss[i-1])\n",
    "        Average_Change=round(sum(Diff)/len(Diff))\n",
    "print(Average_Change)\n",
    "Greatest_Increase_Profit=max(Diff)\n",
    "Greatest_Increase_Date=str(Months[Diff.index(max(Diff))])\n",
    "Greatest_Decrease_Losses=min(Diff)\n",
    "Greatest_Decrease_Date = str(Months[Diff.index(min(Diff))])\n",
    "\n",
    "print()\n",
    "print()\n",
    "print(\"Financial Analysis\")\n",
    "print(\"---------------------------\")\n",
    "print(f\"Total Months: {str(len(Months))}\")\n",
    "print(f\"Total : $ {str(sum(Profit_Loss))}\")\n",
    "print(f\"Average Change: $ {str(Average_Change)}\")\n",
    "print(f\"Greatest Increase in Profits: {str(Greatest_Increase_Date)} $ {str(Greatest_Increase_Profit)}\")\n",
    "print(f\"Greatest Decrease in Profits: {str(Greatest_Decrease_Date)} $ {str(Greatest_Decrease_Losses)}\")\n"
   ]
  },
  {
   "cell_type": "code",
   "execution_count": null,
   "metadata": {},
   "outputs": [],
   "source": []
  },
  {
   "cell_type": "code",
   "execution_count": null,
   "metadata": {},
   "outputs": [],
   "source": []
  }
 ],
 "metadata": {
  "kernelspec": {
   "display_name": "Python 3",
   "language": "python",
   "name": "python3"
  },
  "language_info": {
   "codemirror_mode": {
    "name": "ipython",
    "version": 3
   },
   "file_extension": ".py",
   "mimetype": "text/x-python",
   "name": "python",
   "nbconvert_exporter": "python",
   "pygments_lexer": "ipython3",
   "version": "3.7.4"
  }
 },
 "nbformat": 4,
 "nbformat_minor": 4
}
