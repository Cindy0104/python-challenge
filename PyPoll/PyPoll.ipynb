{
 "cells": [
  {
   "cell_type": "code",
   "execution_count": 72,
   "metadata": {},
   "outputs": [],
   "source": [
    "import os\n",
    "import csv\n",
    "path=\"election_data.csv\""
   ]
  },
  {
   "cell_type": "code",
   "execution_count": 73,
   "metadata": {},
   "outputs": [],
   "source": [
    "candidates=[]\n",
    "total_votes=[]\n",
    "vote_counts=[]\n",
    "total_votes=0"
   ]
  },
  {
   "cell_type": "code",
   "execution_count": 74,
   "metadata": {},
   "outputs": [],
   "source": [
    "with open(path,newline=\"\") as csv_file:\n",
    "    reader=csv.reader(csv_file)\n",
    "    csv_header=next(csv_file)\n",
    "    for x in reader:\n",
    "        total_votes=total_votes+1\n",
    "        candidate=x[2]\n",
    "        if candidate in candidates:\n",
    "            candidate_index=candidates.index(candidate)\n",
    "            vote_counts[candidate_index]=vote_counts[candidate_index]+1\n",
    "        else:\n",
    "            candidates.append(candidate)\n",
    "            vote_counts.append(1)\n",
    "            \n",
    "percentages=[]\n",
    "max_votes=vote_counts[0]\n",
    "max_index=0\n",
    "for count in range(len(candidates)):\n",
    "    vote_percentage = round((vote_counts[count]/total_votes )* 100)\n",
    "    percentages.append(vote_percentage)\n",
    "    if vote_counts[count]>max_votes:\n",
    "        max_votes=vote_counts[count]\n",
    "        print(max_votes)\n",
    "        max_index=count\n",
    "        \n",
    "winner=candidates[max_index]\n",
    "            "
   ]
  },
  {
   "cell_type": "code",
   "execution_count": 75,
   "metadata": {},
   "outputs": [
    {
     "name": "stdout",
     "output_type": "stream",
     "text": [
      "3521001\n"
     ]
    }
   ],
   "source": [
    "print(total_votes)"
   ]
  },
  {
   "cell_type": "code",
   "execution_count": 76,
   "metadata": {},
   "outputs": [
    {
     "name": "stdout",
     "output_type": "stream",
     "text": [
      "['Khan', 'Correy', 'Li', \"O'Tooley\"]\n"
     ]
    }
   ],
   "source": [
    "print(candidates)"
   ]
  },
  {
   "cell_type": "code",
   "execution_count": 77,
   "metadata": {},
   "outputs": [
    {
     "name": "stdout",
     "output_type": "stream",
     "text": [
      "[8872924, 2816800, 1971760, 422520]\n"
     ]
    }
   ],
   "source": [
    "print(vote_count)"
   ]
  },
  {
   "cell_type": "code",
   "execution_count": 82,
   "metadata": {},
   "outputs": [
    {
     "name": "stdout",
     "output_type": "stream",
     "text": [
      "Election\n",
      "----------------------------\n",
      "Total Votes: 3521001\n",
      "Khan: 63% (2218231)\n",
      "Correy: 20% (704200)\n",
      "Li: 14% (492940)\n",
      "O'Tooley: 3% (105630)\n",
      "----------------------------\n",
      "Winner: Khan\n"
     ]
    }
   ],
   "source": [
    "print(\"Election\")\n",
    "print(\"----------------------------\")\n",
    "print(f\"Total Votes: {total_votes}\")\n",
    "for count in range(len(candidates)):\n",
    "    print(f\"{candidates[count]}: {percentages[count]}% ({vote_counts[count]})\")\n",
    "print(\"----------------------------\")\n",
    "print(f\"Winner: {winner}\")\n"
   ]
  },
  {
   "cell_type": "code",
   "execution_count": 83,
   "metadata": {},
   "outputs": [
    {
     "data": {
      "text/plain": [
       "'/Users/cindyw/NU-CHI-DATA-PT-11-2019-U-C/03-Python/Python-HW/Instructions/PyPoll/Resources'"
      ]
     },
     "execution_count": 83,
     "metadata": {},
     "output_type": "execute_result"
    }
   ],
   "source": [
    "import os\n",
    "os.getcwd()"
   ]
  },
  {
   "cell_type": "code",
   "execution_count": null,
   "metadata": {},
   "outputs": [],
   "source": []
  }
 ],
 "metadata": {
  "kernelspec": {
   "display_name": "Python 3",
   "language": "python",
   "name": "python3"
  },
  "language_info": {
   "codemirror_mode": {
    "name": "ipython",
    "version": 3
   },
   "file_extension": ".py",
   "mimetype": "text/x-python",
   "name": "python",
   "nbconvert_exporter": "python",
   "pygments_lexer": "ipython3",
   "version": "3.7.4"
  }
 },
 "nbformat": 4,
 "nbformat_minor": 4
}
